{
 "cells": [
  {
   "cell_type": "markdown",
   "metadata": {},
   "source": [
    "# Carnivore\n",
    "\n",
    "## Description\n",
    "\n",
    "This notebook compares the world's most popular meat production (beef, chicken, and swine/pig) to the world's population over time (from the year 1961 to the year 2021). The goal is to determine whether food production is keeping up with global population growth.\n",
    "\n",
    "## Meat Production\n",
    "\n",
    "The world's meat production data was gathered from the [Food and Agriculture Organization of the United Nations](https://www.fao.org/faostat/en/#data/QCL). The following image displays the constraints used to derive the CSV of beef, chicken, and swine data:\n",
    "\n",
    "![FAO Data Constraints](FAO_data_constraints.png \"FAO Data Constraints\")\n",
    "\n",
    "## Population\n",
    "\n",
    "The world's population data was gathered from the [United Nations' Data Portal of the Population Division](https://population.un.org/dataportal/data/indicators/49/locations/900/start/1961/end/2021/table/pivotbylocation). The following image displays the constraints used to derive the CSV of total human population:\n",
    "\n",
    "![Population Data Constraints](population_data_constraints.png \"Population Data Constraints\")"
   ]
  },
  {
   "cell_type": "code",
   "execution_count": 1,
   "metadata": {},
   "outputs": [
    {
     "name": "stdout",
     "output_type": "stream",
     "text": [
      "hello\n"
     ]
    }
   ],
   "source": []
  }
 ],
 "metadata": {
  "kernelspec": {
   "display_name": ".venv",
   "language": "python",
   "name": "python3"
  },
  "language_info": {
   "codemirror_mode": {
    "name": "ipython",
    "version": 3
   },
   "file_extension": ".py",
   "mimetype": "text/x-python",
   "name": "python",
   "nbconvert_exporter": "python",
   "pygments_lexer": "ipython3",
   "version": "3.9.18"
  },
  "orig_nbformat": 4
 },
 "nbformat": 4,
 "nbformat_minor": 2
}
